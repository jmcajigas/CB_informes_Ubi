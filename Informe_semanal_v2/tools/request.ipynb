{
 "cells": [
  {
   "cell_type": "code",
   "execution_count": 1,
   "metadata": {},
   "outputs": [],
   "source": [
    "# this cell enables relative path imports\n",
    "import os\n",
    "from dotenv import load_dotenv\n",
    "import pickle\n",
    "load_dotenv()\n",
    "_PROJECT_PATH: str = os.environ[\"_project_path\"]\n",
    "_PICKLED_DATA_FILENAME: str = os.environ[\"_pickled_data_filename\"]\n",
    "_CSV_DATA_FILENAME: str = os.environ[\"_csv_data_filename\"]\n",
    "sas_url : str = os.environ[\"sas_url\"]\n",
    "\n",
    "\n",
    "import sys\n",
    "from pathlib import Path\n",
    "project_path = Path(_PROJECT_PATH)\n",
    "sys.path.append(str(project_path))"
   ]
  },
  {
   "cell_type": "code",
   "execution_count": 2,
   "metadata": {},
   "outputs": [
    {
     "name": "stdout",
     "output_type": "stream",
     "text": [
      "Baseline en config_v2.py: ['2024-04-14', '2024-10-14']\n",
      "Study en config_v2.py: ['2024-10-14', '2024-10-21']\n"
     ]
    }
   ],
   "source": [
    "# import all your modules here\n",
    "import time\n",
    "import json\n",
    "import pandas as pd\n",
    "\n",
    "import config_v2 as cfg\n",
    "from library_ubidots_v2 import Ubidots as ubi"
   ]
  },
  {
   "cell_type": "code",
   "execution_count": 3,
   "metadata": {},
   "outputs": [],
   "source": [
    "from azure.storage.blob import BlobServiceClient, BlobClient, ContentSettings\n",
    "\n",
    "class AzureBlobFileDownloader:\n",
    "    def __init__(self, sas_url):\n",
    "        self.blob_service_client = BlobServiceClient(account_url=sas_url)\n",
    "\n",
    "    def upload_pkl_file(self, bancolombia_pkl, blob_name, blob_container):\n",
    "        try:\n",
    "            blob_client = self.blob_service_client.get_blob_client(container=blob_container, blob=blob_name)\n",
    "            blob_content = pickle.dumps(bancolombia_pkl)\n",
    "            blob_client.upload_blob(data=blob_content, overwrite=True)\n",
    "\n",
    "        except Exception as e:\n",
    "            print(f\"Fallo la subida perrito '{blob_name}': {str(e)}\")\n",
    "            \n",
    "    def read_file_content_as_pickle(self, blob_name, blob_container):\n",
    "        try:\n",
    "            blob_client = self.blob_service_client.get_blob_client(container=blob_container, blob=blob_name)\n",
    "            blob_content = blob_client.download_blob().readall()\n",
    "            print(f\"Content of file '{blob_name}':\")\n",
    "            file_content = pickle.loads(blob_content)\n",
    "            return file_content\n",
    "        except Exception as e:\n",
    "            print(f\"Failed to read content of '{blob_name}': {str(e)}\")\n",
    "            return None"
   ]
  },
  {
   "cell_type": "code",
   "execution_count": 4,
   "metadata": {},
   "outputs": [],
   "source": [
    "downloader = AzureBlobFileDownloader(sas_url)\n",
    "blob_container = \"Bancolombia\"\n",
    "downloader.blob_container = blob_container"
   ]
  },
  {
   "cell_type": "code",
   "execution_count": 5,
   "metadata": {},
   "outputs": [
    {
     "name": "stdout",
     "output_type": "stream",
     "text": [
      "Content of file 'data/data_weekly_report.pkl':\n"
     ]
    }
   ],
   "source": [
    "#blob_container = \"Bancolombia\"\n",
    "blob_name = r\"data/data_weekly_report.pkl\"\n",
    "downloader.blob_container = blob_container\n",
    "df1 = downloader.read_file_content_as_pickle(blob_name, blob_container)\n",
    "#bancolombia_pkl"
   ]
  },
  {
   "cell_type": "code",
   "execution_count": 6,
   "metadata": {},
   "outputs": [],
   "source": [
    "#blob_name = r\"data/data_weekly_report.pkl\"\n",
    "#downloader.upload_pkl_file(bancolombia_pkl,blob_name, blob_container)"
   ]
  },
  {
   "cell_type": "code",
   "execution_count": 7,
   "metadata": {},
   "outputs": [],
   "source": [
    "# set your constants here\n",
    "baseline=cfg.BASELINE\n",
    "study=cfg.STUDY"
   ]
  },
  {
   "cell_type": "code",
   "execution_count": 8,
   "metadata": {},
   "outputs": [
    {
     "name": "stdout",
     "output_type": "stream",
     "text": [
      "['2024-10-14', '2024-10-21']\n",
      "['2024-04-14', '2024-10-14']\n"
     ]
    }
   ],
   "source": [
    "print(study)\n",
    "print(baseline)"
   ]
  },
  {
   "cell_type": "code",
   "execution_count": 9,
   "metadata": {},
   "outputs": [],
   "source": [
    "df_devices = ubi.get_available_devices_v2(label='bancolombia', level='group', page_size=1000)\n",
    "df_vars = ubi.get_available_variables(list(df_devices['device_id']))"
   ]
  },
  {
   "cell_type": "code",
   "execution_count": 10,
   "metadata": {},
   "outputs": [],
   "source": [
    "df_vars = df_vars[df_vars['variable_label'].isin(cfg.WHITELISTED_VAR_LABELS)]\n",
    "VAR_IDS_TO_REQUEST = list(df_vars['variable_id'])\n",
    "VAR_ID_TO_LABEL = dict(zip(df_vars['variable_id'], df_vars['variable_label']))"
   ]
  },
  {
   "cell_type": "code",
   "execution_count": 11,
   "metadata": {},
   "outputs": [],
   "source": [
    "#leer el archivo data_weekly_report.pkl y guardarlo en un dataframe llamado df1\n",
    "# df1 = pd.read_pickle(r'C:\\Users\\jpocampo\\OneDrive - CELSIA S.A E.S.P\\Escritorio\\Informe_Bancolombia\\CB_informes_Ubi\\Informe_semanal_v2\\data\\data_weekly_report.pkl')\n"
   ]
  },
  {
   "cell_type": "code",
   "execution_count": 12,
   "metadata": {},
   "outputs": [
    {
     "name": "stdout",
     "output_type": "stream",
     "text": [
      "Fecha mínima: 2023-01-01 00:00:00-05:00\n"
     ]
    }
   ],
   "source": [
    "fecha_minima = df1.index.min()\n",
    "\n",
    "print(\"Fecha mínima:\", fecha_minima)\n"
   ]
  },
  {
   "cell_type": "code",
   "execution_count": 13,
   "metadata": {},
   "outputs": [
    {
     "name": "stdout",
     "output_type": "stream",
     "text": [
      "Making request for the following interval: Study:2024-10-14, Study:2024-10-21\n",
      "Progress: 1.7%\n",
      "Response status code: 200\n",
      "Progress: 3.3%\n",
      "Response status code: 200\n",
      "Progress: 4.8%\n",
      "Response status code: 200\n",
      "Progress: 6.4%\n",
      "Response status code: 200\n",
      "Progress: 7.9%\n",
      "Response status code: 200\n",
      "Progress: 9.5%\n",
      "Response status code: 200\n",
      "Progress: 11.0%\n",
      "Response status code: 200\n",
      "Progress: 12.6%\n",
      "Response status code: 200\n",
      "Progress: 14.1%\n",
      "Response status code: 200\n",
      "Progress: 15.7%\n",
      "Response status code: 200\n",
      "Progress: 17.2%\n",
      "Response status code: 200\n",
      "Progress: 18.8%\n",
      "Response status code: 200\n",
      "Progress: 20.3%\n",
      "Response status code: 200\n",
      "Progress: 21.9%\n",
      "Response status code: 200\n",
      "Progress: 23.4%\n",
      "Response status code: 200\n",
      "Progress: 25.0%\n",
      "Response status code: 200\n",
      "Progress: 26.6%\n",
      "Response status code: 200\n",
      "Progress: 28.1%\n",
      "Response status code: 200\n",
      "Progress: 29.7%\n",
      "Response status code: 200\n",
      "Progress: 31.2%\n",
      "Response status code: 200\n",
      "Progress: 32.8%\n",
      "Response status code: 200\n",
      "Progress: 34.3%\n",
      "Response status code: 200\n",
      "Progress: 35.9%\n",
      "Response status code: 200\n",
      "Progress: 37.4%\n",
      "Response status code: 200\n",
      "Progress: 39.0%\n",
      "Response status code: 200\n",
      "Progress: 40.5%\n",
      "Response status code: 200\n",
      "Progress: 42.1%\n",
      "Response status code: 200\n",
      "Progress: 43.6%\n",
      "Response status code: 200\n",
      "Progress: 45.2%\n",
      "Response status code: 200\n",
      "Progress: 46.7%\n",
      "Response status code: 200\n",
      "Progress: 48.3%\n",
      "Response status code: 200\n",
      "Progress: 49.8%\n",
      "Response status code: 200\n",
      "Progress: 51.4%\n",
      "Response status code: 200\n",
      "Progress: 53.0%\n",
      "Response status code: 200\n",
      "Progress: 54.5%\n",
      "Response status code: 200\n",
      "Progress: 56.1%\n",
      "Response status code: 200\n",
      "Progress: 57.6%\n",
      "Response status code: 200\n",
      "Progress: 59.2%\n",
      "Response status code: 200\n",
      "Progress: 60.7%\n",
      "Response status code: 200\n",
      "Progress: 62.3%\n",
      "Response status code: 200\n",
      "Progress: 63.8%\n",
      "Response status code: 200\n",
      "Progress: 65.4%\n",
      "Response status code: 200\n",
      "Progress: 66.9%\n",
      "Response status code: 200\n",
      "Progress: 68.5%\n",
      "Response status code: 200\n",
      "Progress: 70.0%\n",
      "Response status code: 200\n",
      "Progress: 71.6%\n",
      "Response status code: 200\n",
      "Progress: 73.1%\n",
      "Response status code: 200\n",
      "Progress: 74.7%\n",
      "Response status code: 200\n",
      "Progress: 76.2%\n",
      "Response status code: 200\n",
      "Progress: 77.8%\n",
      "Response status code: 200\n",
      "Progress: 79.3%\n",
      "Response status code: 200\n",
      "Progress: 80.9%\n",
      "Response status code: 200\n",
      "Progress: 82.5%\n",
      "Response status code: 200\n",
      "Progress: 84.0%\n",
      "Response status code: 200\n",
      "Progress: 85.6%\n",
      "Response status code: 200\n",
      "Progress: 87.1%\n",
      "Response status code: 200\n",
      "Progress: 88.7%\n",
      "Response status code: 200\n",
      "Progress: 90.2%\n",
      "Response status code: 200\n",
      "Progress: 91.8%\n",
      "Response status code: 200\n",
      "Progress: 93.3%\n",
      "Response status code: 200\n",
      "Progress: 94.9%\n",
      "Response status code: 200\n",
      "Progress: 96.4%\n",
      "Response status code: 200\n",
      "Progress: 98.0%\n",
      "Response status code: 200\n",
      "Progress: 99.5%\n",
      "Response status code: 200\n",
      "Progress: 100.0%\n",
      "Response status code: 200\n"
     ]
    }
   ],
   "source": [
    "CHUNK_SIZE = 10\n",
    "DATE_INTERVAL_REQUEST = {'start': study[0], 'end': study[1]}\n",
    "df = None\n",
    "lst_responses = []\n",
    "n_vars = len(VAR_IDS_TO_REQUEST)\n",
    "print(f\"Making request for the following interval: Study:{study[0]}, Study:{study[1]}\")\n",
    "for idx in range(0, ubi.ceildiv(len(VAR_IDS_TO_REQUEST), CHUNK_SIZE)):\n",
    "    idx_start = idx * CHUNK_SIZE\n",
    "    idx_end = (idx + 1) * CHUNK_SIZE\n",
    "    chunk = VAR_IDS_TO_REQUEST[idx_start:idx_end]\n",
    "    response = ubi.make_request(\n",
    "        chunk, \n",
    "        DATE_INTERVAL_REQUEST, \n",
    "    )\n",
    "    if response.status_code == 204 or response.status_code >= 500:\n",
    "        print(f\"Empty response for chunk {idx}\")\n",
    "        time.sleep(10)\n",
    "        response = ubi.make_request(\n",
    "        chunk, \n",
    "        DATE_INTERVAL_REQUEST,)\n",
    "    current_idx = idx_end+1\n",
    "    if (current_idx > n_vars):\n",
    "        current_idx = n_vars\n",
    "    print(f\"Progress: {100*(current_idx)/n_vars:0.1f}%\")\n",
    "    print(f\"Response status code: {response.status_code}\")\n",
    "    if (response.status_code != 204) and  (len(response.json()['results']) >0 ):\n",
    "        lst_responses.append(response)\n",
    "    else: \n",
    "        print(f\"Empty response for chunk {idx}\")\n",
    "df = ubi.parse_response(lst_responses, VAR_ID_TO_LABEL)"
   ]
  },
  {
   "cell_type": "code",
   "execution_count": 14,
   "metadata": {},
   "outputs": [],
   "source": [
    "#Unir el dataframe df y df1 en uno que se llame df_full\n",
    "df = pd.concat([df1, df], axis=0, ignore_index=False)"
   ]
  },
  {
   "cell_type": "code",
   "execution_count": 15,
   "metadata": {},
   "outputs": [],
   "source": [
    "# para quitar el indixe de \"datatime\" y volverlo columna \n",
    "df.reset_index(inplace=True)\n",
    "\n",
    "# Quitar duplicados \n",
    "df = df.drop_duplicates()\n",
    "\n",
    "# Establecer la columna \"datetime\" como el índice\n",
    "df.set_index('datetime', inplace=True)\n"
   ]
  },
  {
   "cell_type": "code",
   "execution_count": 16,
   "metadata": {},
   "outputs": [],
   "source": [
    "# df1 = pd.read_pickle(r'C:\\Users\\jpocampo\\OneDrive - CELSIA S.A E.S.P\\Escritorio\\Informe_Bancolombia\\CB_informes_Ubi\\Informe_semanal_v2\\data\\data_weekly_report.pkl')"
   ]
  },
  {
   "cell_type": "code",
   "execution_count": 17,
   "metadata": {},
   "outputs": [],
   "source": [
    "downloader.upload_pkl_file(df_devices, blob_name, blob_container)"
   ]
  },
  {
   "cell_type": "code",
   "execution_count": 18,
   "metadata": {},
   "outputs": [],
   "source": [
    "#blob_name = r\"data/data_weekly_report.pkl\"\n",
    "downloader.upload_pkl_file(df,blob_name, blob_container)"
   ]
  },
  {
   "cell_type": "code",
   "execution_count": 19,
   "metadata": {},
   "outputs": [],
   "source": [
    "pd.to_pickle(df, project_path / 'data'/ _PICKLED_DATA_FILENAME)"
   ]
  }
 ],
 "metadata": {
  "kernelspec": {
   "display_name": "nuevo2-env",
   "language": "python",
   "name": "python3"
  },
  "language_info": {
   "codemirror_mode": {
    "name": "ipython",
    "version": 3
   },
   "file_extension": ".py",
   "mimetype": "text/x-python",
   "name": "python",
   "nbconvert_exporter": "python",
   "pygments_lexer": "ipython3",
   "version": "3.9.16"
  },
  "orig_nbformat": 4,
  "vscode": {
   "interpreter": {
    "hash": "a3ed1408207adb65ea76cc73f6a4a844ab927e5dee5cd8790bd3d1eac84bb653"
   }
  }
 },
 "nbformat": 4,
 "nbformat_minor": 2
}

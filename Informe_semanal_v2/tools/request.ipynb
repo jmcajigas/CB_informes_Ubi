{
 "cells": [
  {
   "cell_type": "code",
   "execution_count": 1,
   "metadata": {},
   "outputs": [],
   "source": [
    "# this cell enables relative path imports\n",
    "import os\n",
    "from dotenv import load_dotenv\n",
    "load_dotenv()\n",
    "_PROJECT_PATH: str = os.environ[\"_project_path\"]\n",
    "_PICKLED_DATA_FILENAME: str = os.environ[\"_pickled_data_filename\"]\n",
    "_CSV_DATA_FILENAME: str = os.environ[\"_csv_data_filename\"]\n",
    "\n",
    "import sys\n",
    "from pathlib import Path\n",
    "project_path = Path(_PROJECT_PATH)\n",
    "sys.path.append(str(project_path))"
   ]
  },
  {
   "cell_type": "code",
   "execution_count": 2,
   "metadata": {},
   "outputs": [
    {
     "name": "stdout",
     "output_type": "stream",
     "text": [
      "Baseline en config_v2.py: ['2023-08-15', '2023-12-18']\n",
      "Study en config_v2.py: ['2023-12-18', '2023-12-26']\n"
     ]
    }
   ],
   "source": [
    "# import all your modules here\n",
    "import time\n",
    "import json\n",
    "import pandas as pd\n",
    "\n",
    "import config_v2 as cfg\n",
    "from library_ubidots_v2 import Ubidots as ubi"
   ]
  },
  {
   "cell_type": "code",
   "execution_count": 3,
   "metadata": {},
   "outputs": [],
   "source": [
    "# set your constants here\n",
    "baseline=cfg.BASELINE\n",
    "study=cfg.STUDY"
   ]
  },
  {
   "cell_type": "code",
   "execution_count": 4,
   "metadata": {},
   "outputs": [
    {
     "name": "stdout",
     "output_type": "stream",
     "text": [
      "['2023-12-18', '2023-12-26']\n",
      "['2023-08-15', '2023-12-18']\n"
     ]
    }
   ],
   "source": [
    "print(study)\n",
    "print(baseline)"
   ]
  },
  {
   "cell_type": "code",
   "execution_count": null,
   "metadata": {},
   "outputs": [],
   "source": [
    "df_devices = ubi.get_available_devices_v2(label='bancolombia', level='group', page_size=1000)\n",
    "df_vars = ubi.get_available_variables(list(df_devices['device_id']))"
   ]
  },
  {
   "cell_type": "code",
   "execution_count": null,
   "metadata": {},
   "outputs": [],
   "source": [
    "df_vars = df_vars[df_vars['variable_label'].isin(cfg.WHITELISTED_VAR_LABELS)]\n",
    "VAR_IDS_TO_REQUEST = list(df_vars['variable_id'])\n",
    "VAR_ID_TO_LABEL = dict(zip(df_vars['variable_id'], df_vars['variable_label']))"
   ]
  },
  {
   "cell_type": "code",
   "execution_count": null,
   "metadata": {},
   "outputs": [],
   "source": [
    "#leer el archivo data_weekly_report.pkl y guardarlo en un dataframe llamado df1\n",
    "df1 = pd.read_pickle(r'C:\\Users\\jpocampo\\OneDrive - CELSIA S.A E.S.P\\Escritorio\\Informe_Bancolombia\\CB_informes_Ubi\\Informe_semanal_v2\\data\\data_weekly_report.pkl')\n",
    "\n"
   ]
  },
  {
   "cell_type": "code",
   "execution_count": null,
   "metadata": {},
   "outputs": [],
   "source": [
    "CHUNK_SIZE = 10\n",
    "DATE_INTERVAL_REQUEST = {'start': study[0], 'end': study[1]}\n",
    "df = None\n",
    "lst_responses = []\n",
    "n_vars = len(VAR_IDS_TO_REQUEST)\n",
    "print(f\"Making request for the following interval: Study:{study[0]}, Study:{study[1]}\")\n",
    "for idx in range(0, ubi.ceildiv(len(VAR_IDS_TO_REQUEST), CHUNK_SIZE)):\n",
    "    idx_start = idx * CHUNK_SIZE\n",
    "    idx_end = (idx + 1) * CHUNK_SIZE\n",
    "    chunk = VAR_IDS_TO_REQUEST[idx_start:idx_end]\n",
    "    response = ubi.make_request(\n",
    "        chunk, \n",
    "        DATE_INTERVAL_REQUEST, \n",
    "    )\n",
    "    if response.status_code == 204 or response.status_code >= 500:\n",
    "        print(f\"Empty response for chunk {idx}\")\n",
    "        time.sleep(10)\n",
    "        response = ubi.make_request(\n",
    "        chunk, \n",
    "        DATE_INTERVAL_REQUEST,)\n",
    "    current_idx = idx_end+1\n",
    "    if (current_idx > n_vars):\n",
    "        current_idx = n_vars\n",
    "    print(f\"Progress: {100*(current_idx)/n_vars:0.1f}%\")\n",
    "    print(f\"Response status code: {response.status_code}\")\n",
    "    if (response.status_code != 204) and  (len(response.json()['results']) >0 ):\n",
    "        lst_responses.append(response)\n",
    "    else: \n",
    "        print(f\"Empty response for chunk {idx}\")\n",
    "df = ubi.parse_response(lst_responses, VAR_ID_TO_LABEL)"
   ]
  },
  {
   "cell_type": "code",
   "execution_count": null,
   "metadata": {},
   "outputs": [],
   "source": [
    "#Unir el dataframe df y df1 en uno que se llame df_full\n",
    "df = pd.concat([df1, df], axis=0, ignore_index=False)"
   ]
  },
  {
   "cell_type": "code",
   "execution_count": null,
   "metadata": {},
   "outputs": [],
   "source": [
    "# para quitar el indixe de \"datatime\" y volverlo columna \n",
    "df.reset_index(inplace=True)\n",
    "\n",
    "# Quitar duplicados \n",
    "df = df.drop_duplicates()\n",
    "\n",
    "# Establecer la columna \"datetime\" como el índice\n",
    "df.set_index('datetime', inplace=True)\n"
   ]
  },
  {
   "cell_type": "code",
   "execution_count": null,
   "metadata": {},
   "outputs": [],
   "source": [
    "pd.to_pickle(df, project_path / 'data'/ _PICKLED_DATA_FILENAME)"
   ]
  },
  {
   "cell_type": "code",
   "execution_count": null,
   "metadata": {},
   "outputs": [],
   "source": [
    "df.to_csv(project_path / 'data'/ _CSV_DATA_FILENAME , index= False)"
   ]
  },
  {
   "cell_type": "code",
   "execution_count": null,
   "metadata": {},
   "outputs": [],
   "source": [
    "#prueba = ['2023-01-01', '2023-02-01']\n",
    "\n",
    "#df_filtrado = df[(df.index >='2023-01-01') & (df.index <= '2023-01-31')]"
   ]
  },
  {
   "cell_type": "code",
   "execution_count": null,
   "metadata": {},
   "outputs": [],
   "source": [
    "# Filtra el DataFrame por el rango de fechas\n",
    "#df_filtrado = df.loc[study]\n",
    "\n",
    "# Imprime el DataFrame resultante\n",
    "#print(df_filtrado)"
   ]
  },
  {
   "cell_type": "code",
   "execution_count": null,
   "metadata": {},
   "outputs": [],
   "source": [
    "\"\"\"\n",
    "# para quitar el indixe de \"datatime\" y volerlo columna \n",
    "df.reset_index(inplace=True)\n",
    "\n",
    "# Filtrar los registros que no sean del año 2023, mes 09 y día 25\n",
    "df = df.loc[~((df['datetime'].dt.year == 2023) & (df['datetime'].dt.month == 9) & (df['datetime'].dt.day == 25))]\n",
    "\n",
    "# Ahora, df contiene solo los registros que no coinciden con la fecha especificada\n",
    "\n",
    "# Establecer la columna \"datetime\" como el índice\n",
    "df.set_index('datetime', inplace=True)\n",
    "\n",
    "\"\"\""
   ]
  },
  {
   "cell_type": "code",
   "execution_count": null,
   "metadata": {},
   "outputs": [],
   "source": [
    "# df_coords = Report.get_coords_dataframe(list(df_devices['id']))\n",
    "# pd.to_pickle(df_coords, \"data_coordinates.pkl\")"
   ]
  }
 ],
 "metadata": {
  "kernelspec": {
   "display_name": "nuevo2-env",
   "language": "python",
   "name": "python3"
  },
  "language_info": {
   "codemirror_mode": {
    "name": "ipython",
    "version": 3
   },
   "file_extension": ".py",
   "mimetype": "text/x-python",
   "name": "python",
   "nbconvert_exporter": "python",
   "pygments_lexer": "ipython3",
   "version": "3.9.16"
  },
  "orig_nbformat": 4,
  "vscode": {
   "interpreter": {
    "hash": "a3ed1408207adb65ea76cc73f6a4a844ab927e5dee5cd8790bd3d1eac84bb653"
   }
  }
 },
 "nbformat": 4,
 "nbformat_minor": 2
}

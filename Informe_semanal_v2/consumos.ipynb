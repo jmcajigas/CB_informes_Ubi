{
 "cells": [
  {
   "cell_type": "code",
   "execution_count": 1,
   "metadata": {},
   "outputs": [
    {
     "name": "stdout",
     "output_type": "stream",
     "text": [
      "Baseline en config_v2.py: ['2024-04-01', '2024-08-26']\n",
      "Study en config_v2.py: ['2024-08-26', '2024-09-02']\n"
     ]
    }
   ],
   "source": [
    "import pandas as pd\n",
    "import numpy as np\n",
    "import datetime as dt\n",
    "import json\n",
    "from datetime import datetime\n",
    "\n",
    "import plotly.io as pio\n",
    "import plotly.graph_objects as go\n",
    "import plotly.express as px\n",
    "import warnings\n",
    "warnings.filterwarnings('ignore')\n",
    "\n",
    "\n",
    "# this enables relative path imports\n",
    "import os\n",
    "from dotenv import load_dotenv\n",
    "load_dotenv()\n",
    "_PROJECT_PATH: str = os.environ[\"_project_path\"]\n",
    "_PICKLED_DATA_FILENAME: str = os.environ[\"_pickled_data_filename\"]\n",
    "\n",
    "import sys\n",
    "from pathlib import Path\n",
    "project_path = Path(_PROJECT_PATH)\n",
    "sys.path.append(str(project_path))\n",
    "\n",
    "import config_v2 as cfg\n",
    "\n",
    "from library_report_v2 import Cleaning as cln\n",
    "from library_report_v2 import Graphing as grp\n",
    "from library_report_v2 import Processing as pro\n",
    "from library_report_v2 import Configuration as repcfg"
   ]
  },
  {
   "cell_type": "code",
   "execution_count": 2,
   "metadata": {},
   "outputs": [],
   "source": [
    "def show_response_contents(df):\n",
    "    print(\"The response contains:\")\n",
    "    print(json.dumps(list(df['variable'].unique()), sort_keys=True, indent=4))\n",
    "    print(json.dumps(list(df['device'].unique()), sort_keys=True, indent=4))"
   ]
  },
  {
   "cell_type": "code",
   "execution_count": 3,
   "metadata": {},
   "outputs": [],
   "source": [
    "df = pd.read_pickle(project_path / 'data' / _PICKLED_DATA_FILENAME)\n",
    "#show_response_contents(df)"
   ]
  },
  {
   "cell_type": "code",
   "execution_count": 4,
   "metadata": {},
   "outputs": [],
   "source": [
    "df = df.sort_values(by=['variable','datetime'])\n",
    "df = pro.datetime_attributes(df)\n",
    "\n",
    "#df_bl, df_st = pro.split_into_baseline_and_study(df, baseline=cfg.BASELINE, study=cfg.STUDY, inclusive='left')\n",
    "#df_bl['Periodo'] = 'Baseline'\n",
    "#df_st['Periodo'] = 'Estudio'\n",
    "\n",
    "#past_w = df_bl.loc[cfg.PAST_WEEK[0]:cfg.PAST_WEEK[1]]"
   ]
  },
  {
   "cell_type": "code",
   "execution_count": 13,
   "metadata": {},
   "outputs": [],
   "source": [
    "#Del dataframe completo (baselin-study) se saca solo la variable energía activa\n",
    "front = df.query(\"variable == 'front-consumo-activa'\").copy()\n",
    "\n",
    "#Se agrupan los datos por intervalos de una hora\n",
    "front_hour = front.groupby(by=[\"variable\", \"device_name\"]).resample('1h').sum().round(2).reset_index().set_index('datetime')\n",
    "front_hour = pro.datetime_attributes(front_hour)\n"
   ]
  },
  {
   "cell_type": "code",
   "execution_count": 16,
   "metadata": {},
   "outputs": [],
   "source": [
    "front_hour = front_hour[front_hour['year'] == 2024]\n"
   ]
  },
  {
   "cell_type": "code",
   "execution_count": 15,
   "metadata": {},
   "outputs": [],
   "source": [
    "# Seleccionar columnas específicas directamente\n",
    "front_hour = front_hour[['variable', 'device_name', 'value', 'hour', 'day', 'month', 'year', 'dow']]\n"
   ]
  },
  {
   "cell_type": "code",
   "execution_count": 18,
   "metadata": {},
   "outputs": [],
   "source": [
    "front_hour.to_clipboard(index=True, header=True)"
   ]
  },
  {
   "cell_type": "code",
   "execution_count": null,
   "metadata": {},
   "outputs": [],
   "source": [
    "#front_hour = front.groupby(['device_name', 'hour']).agg({'value': 'mean', 'day': 'first', 'dow':'first',\n",
    "#       'cont_dow':'first', 'week':'first', 'year':'first' }).reset_index().round(2)"
   ]
  }
 ],
 "metadata": {
  "kernelspec": {
   "display_name": "nuevo2-env",
   "language": "python",
   "name": "python3"
  },
  "language_info": {
   "codemirror_mode": {
    "name": "ipython",
    "version": 3
   },
   "file_extension": ".py",
   "mimetype": "text/x-python",
   "name": "python",
   "nbconvert_exporter": "python",
   "pygments_lexer": "ipython3",
   "version": "3.9.16"
  }
 },
 "nbformat": 4,
 "nbformat_minor": 2
}
